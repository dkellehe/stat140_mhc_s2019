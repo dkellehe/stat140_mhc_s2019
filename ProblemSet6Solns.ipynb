{
 "cells": [
  {
   "cell_type": "markdown",
   "metadata": {},
   "source": [
    "## <span style=\"color:darkblue\"> Problem Set 4: Cconfidence intervals\n"
   ]
  },
  {
   "cell_type": "markdown",
   "metadata": {},
   "source": [
    "**Problem set policies:** Please provide concise, clear answers for each question. Note that only writing the result of a calculation (e.g., \"SD = 3.3\") without explanation is not sufficient. For problems involving `R`, include the code in your solution, along with any plots.\n",
    "\t\t\n",
    "Each problem set is due by 11:59pm on the due date; please submit your problem set via gyrd\n",
    "\t\t\n",
    "*You are encouraged to discuss problems with other students (and, of course, with the course head and the TAs), but you must write your final answer in your own words. Solutions prepared \"in committee\" are not acceptable. If you do collaborate with classmates on a problem, please list your collaborators on your solution.*"
   ]
  },
  {
   "cell_type": "markdown",
   "metadata": {},
   "source": [
    "## Problem 1\n",
    "### oi_biostat 4.14\n",
    "\n",
    "Write the null and alternative hypotheses in words and using symbols for each of the following situations.\n",
    "\n",
    "(a) Since 2008, chain restaurants in California have been required to display calorie counts of each menu item. Prior to menus displaying calorie counts, the average calorie intake of diners at a restaurant was 1100 calories. After calorie counts started to be displayed on menus, a nutritionist collected data on the number of calories consumed at this restaurant from a random sample of diners. Do these data provide convincing evidence of a difference in the average calorie intake of a diners at this restaurant?\n"
   ]
  },
  {
   "cell_type": "markdown",
   "metadata": {},
   "source": [
    "Answer:\n",
    "\n",
    "$H_0:$ $\\mu=1100$\n",
    "\n",
    "$H_A:$ $\\mu\\neq 1000$"
   ]
  },
  {
   "cell_type": "markdown",
   "metadata": {},
   "source": [
    "\n",
    "(b) Based on the performance of those who took the GRE exam between July 1, 2004 and June 30, 2007, the average Verbal Reasoning score was calculated to be 462. In 2011 the average verbal score was slightly higher. Do these data provide convincing evidence that the average GRE Verbal Reasoning score has changed since 2004?"
   ]
  },
  {
   "cell_type": "markdown",
   "metadata": {},
   "source": [
    "Answer: \n",
    "\n",
    "$H_0:\\mu=462$\n",
    "\n",
    "$H_A:\\mu<462$"
   ]
  },
  {
   "cell_type": "markdown",
   "metadata": {},
   "source": [
    "## Problem 2 \n",
    "#### (oi_biostat 4.4) \n",
    "\n",
    "In  2013,  the  Pew  Research  Foundation  reported  that  “45%  of  U.S.\n",
    "adults report that they live with one or more chronic conditions”.\n",
    "However, this value was based\n",
    "on a sample, so it may not be a perfect estimate for the population parameter of interest on its own.\n",
    "The study reported a standard error of about 1.2%, and a normal model may reasonably be used in\n",
    "this setting. Create a 95% confidence interval for the proportion of U.S. adults who live with one or\n",
    "more chronic conditions. Also, interpret the confidence interval in the context of the study."
   ]
  },
  {
   "cell_type": "code",
   "execution_count": 2,
   "metadata": {},
   "outputs": [
    {
     "data": {
      "text/html": [
       "47.352"
      ],
      "text/latex": [
       "47.352"
      ],
      "text/markdown": [
       "47.352"
      ],
      "text/plain": [
       "[1] 47.352"
      ]
     },
     "metadata": {},
     "output_type": "display_data"
    }
   ],
   "source": [
    "#Computation here\n",
    "45+1.96*1.2\n"
   ]
  },
  {
   "cell_type": "markdown",
   "metadata": {},
   "source": [
    "Answer:\n",
    "\n",
    "Confidence interval is $(42.6\\%,47.4\\%)$, i.e. we are 95% confident that the percent of the population who live with one or more chronic conditions is between 42.6\\% and 47.4\\%."
   ]
  },
  {
   "cell_type": "markdown",
   "metadata": {},
   "source": [
    "## Problem 3\n",
    "#### (oi_biostat 4.6)\n",
    "\n",
    "In 2013, the Pew Research Foundation reported that “45% of U.S. adults report that they live with one or more chronic conditions”, and the standard error for this estimate is 1.2%. Identify each of the following statements as true or false. Provide an explanation to justify each of your answers.\n",
    "\n",
    "(a) TRUE or FALSE: We can say with certainty that the confidence interval from Exercise 4.4 contains the true percentage of U.S. adults who suffer from a chronic illness."
   ]
  },
  {
   "cell_type": "markdown",
   "metadata": {},
   "source": [
    "Answer: False, assuming that complete randomness, there is a 5\\% chance that it is not."
   ]
  },
  {
   "cell_type": "markdown",
   "metadata": {},
   "source": [
    "b) TRUE or FALSE: If we repeated this study 1,000 times and constructed a 95% confidence interval for each study, then approximately 950 of those confidence intervals would contain the true fraction of U.S. adults who suffer from chronic illnesses."
   ]
  },
  {
   "cell_type": "markdown",
   "metadata": {},
   "source": [
    "Answer: True, this is why we constructed the confidence intervals the way we did."
   ]
  },
  {
   "cell_type": "markdown",
   "metadata": {},
   "source": [
    "c) TRUE or FALSE:  The poll provides statistically significant evidence (at the α = 0.05 level) that the percentage of U.S. adults who suffer from chronic illnesses is below 50%."
   ]
  },
  {
   "cell_type": "markdown",
   "metadata": {},
   "source": [
    "Answer: True, 50>47.4."
   ]
  },
  {
   "cell_type": "markdown",
   "metadata": {},
   "source": [
    "d) TRUE or FALSE: Since the standard error is 1.2%, only 1.2% of people in the study communicated uncertainty about their answer."
   ]
  },
  {
   "cell_type": "markdown",
   "metadata": {
    "slideshow": {
     "slide_type": "fragment"
    }
   },
   "source": [
    "Answer: False, this is nonsense."
   ]
  },
  {
   "cell_type": "markdown",
   "metadata": {},
   "source": [
    "#### Problem 3 (oi_biostat 4.8)\n",
    "\n",
    "The 2010 General Social Survey asked the question:  “After an average\n",
    "work day,  about how many hours do you have to relax or pursue activities that you enjoy?\" to a\n",
    "random sample of 1,155 Americans.\n",
    "A 95% confidence interval for the mean number of hours\n",
    "spent relaxing or pursuing activities they enjoy is (1.38, 1.92).\n",
    "\n",
    "a)  Interpret this interval in context of the data."
   ]
  },
  {
   "cell_type": "markdown",
   "metadata": {},
   "source": [
    "Answer: We are 95% confindent that the number of hours Joe America has to pursue leasure activities  is between 1.38 and 1.92.\n",
    "\n",
    "Alternatively, we are 95% confident that we can get at least 1.38 more hours per  out of our average worker. (:"
   ]
  },
  {
   "cell_type": "markdown",
   "metadata": {},
   "source": [
    "b) Suppose another set of researchers reported a confidence interval with a larger margin of error\n",
    "based on the same sample of 1,155 Americans. How does their confidence level compare to the\n",
    "confidence level of the interval stated above?"
   ]
  },
  {
   "cell_type": "markdown",
   "metadata": {},
   "source": [
    "Answer: They would have a higher confidence level. Wider interval = more confidence."
   ]
  },
  {
   "cell_type": "markdown",
   "metadata": {},
   "source": [
    "c) Suppose next year a new survey asking the same question is conducted, and this time the sample\n",
    "size is 2,500.   Assuming that the population characteristics,  with respect to  how much time\n",
    "people spend relaxing after work, have not changed much within a year.  How will the margin\n",
    "of error of the new 95% confidence interval compare to the margin of error of the interval stated\n",
    "above?"
   ]
  },
  {
   "cell_type": "markdown",
   "metadata": {},
   "source": [
    "Answer: The margerin of error will be smaller."
   ]
  },
  {
   "cell_type": "code",
   "execution_count": null,
   "metadata": {},
   "outputs": [],
   "source": []
  }
 ],
 "metadata": {
  "kernelspec": {
   "display_name": "R",
   "language": "R",
   "name": "ir"
  },
  "language_info": {
   "codemirror_mode": "r",
   "file_extension": ".r",
   "mimetype": "text/x-r-source",
   "name": "R",
   "pygments_lexer": "r",
   "version": "3.4.4"
  }
 },
 "nbformat": 4,
 "nbformat_minor": 2
}
