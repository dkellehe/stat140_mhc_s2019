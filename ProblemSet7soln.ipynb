{
 "cells": [
  {
   "cell_type": "markdown",
   "metadata": {},
   "source": [
    "## <span style=\"color:darkblue\"> Problem Set 7: Meet Mr. $t$\n"
   ]
  },
  {
   "cell_type": "markdown",
   "metadata": {},
   "source": [
    "**Problem set policies:** Please provide concise, clear answers for each question. Note that only writing the result of a calculation (e.g., \"SD = 3.3\") without explanation is not sufficient. For problems involving `R`, include the code in your solution, along with any plots.\n",
    "\t\t\n",
    "*You are encouraged to discuss problems with other students (and, of course, with the course head and the TAs), but you must write your final answer in your own words. Solutions prepared \"in committee\" are not acceptable. If you do collaborate with classmates on a problem, please list your collaborators on your solution.*"
   ]
  },
  {
   "cell_type": "markdown",
   "metadata": {},
   "source": [
    "### Problem 1:\n",
    "\n",
    "An independent random sample is selected from an a population. Test the hypothesis with a $t$-test, by finding the p-value for the given \n",
    "$H_0: \\mu=\\mu_0$, $n=$ number of samples, and $T=\\frac{\\overline x - \\mu}{SE}$. Assume $\\alpha =0.05$. \n",
    "\n",
    "(a) $H_A :\\mu > \\mu_0$, $n=11$, $T =1.91$\n"
   ]
  },
  {
   "cell_type": "code",
   "execution_count": 1,
   "metadata": {},
   "outputs": [
    {
     "data": {
      "text/html": [
       "0.0426024383225782"
      ],
      "text/latex": [
       "0.0426024383225782"
      ],
      "text/markdown": [
       "0.0426024383225782"
      ],
      "text/plain": [
       "[1] 0.04260244"
      ]
     },
     "metadata": {},
     "output_type": "display_data"
    }
   ],
   "source": [
    "pt(-1.91,10)"
   ]
  },
  {
   "cell_type": "markdown",
   "metadata": {},
   "source": [
    "Answer: Since $p=4.26\\%<5\\%$ we would reject $H_0$."
   ]
  },
  {
   "cell_type": "markdown",
   "metadata": {},
   "source": [
    "(b) $H_A :\\mu < \\mu_0$, $n=17$, $T =−3.45$"
   ]
  },
  {
   "cell_type": "code",
   "execution_count": 3,
   "metadata": {},
   "outputs": [
    {
     "data": {
      "text/html": [
       "0.00164678570189846"
      ],
      "text/latex": [
       "0.00164678570189846"
      ],
      "text/markdown": [
       "0.00164678570189846"
      ],
      "text/plain": [
       "[1] 0.001646786"
      ]
     },
     "metadata": {},
     "output_type": "display_data"
    }
   ],
   "source": [
    "pt(-3.45,16)"
   ]
  },
  {
   "cell_type": "markdown",
   "metadata": {},
   "source": [
    "Answer: Since $p=0.16\\%<5\\%$, we would reject $H_0$."
   ]
  },
  {
   "cell_type": "markdown",
   "metadata": {},
   "source": [
    " (c) $H_A :\\mu\\neq\\mu_0$, $n=7$, $T =0.83$"
   ]
  },
  {
   "cell_type": "code",
   "execution_count": 5,
   "metadata": {},
   "outputs": [
    {
     "data": {
      "text/html": [
       "0.438308401565986"
      ],
      "text/latex": [
       "0.438308401565986"
      ],
      "text/markdown": [
       "0.438308401565986"
      ],
      "text/plain": [
       "[1] 0.4383084"
      ]
     },
     "metadata": {},
     "output_type": "display_data"
    }
   ],
   "source": [
    "2*pt(-0.83,6)"
   ]
  },
  {
   "cell_type": "markdown",
   "metadata": {},
   "source": [
    "Answer: Since $p=43.8\\%>5\\%$, we cannot reject $H_0$."
   ]
  },
  {
   "cell_type": "markdown",
   "metadata": {},
   "source": [
    "(d) $H_A :\\mu > \\mu_0$, $n=28$, $T =2.13$"
   ]
  },
  {
   "cell_type": "code",
   "execution_count": 6,
   "metadata": {},
   "outputs": [
    {
     "data": {
      "text/html": [
       "0.02121769296095"
      ],
      "text/latex": [
       "0.02121769296095"
      ],
      "text/markdown": [
       "0.02121769296095"
      ],
      "text/plain": [
       "[1] 0.02121769"
      ]
     },
     "metadata": {},
     "output_type": "display_data"
    }
   ],
   "source": [
    "pt(-2.13,27)"
   ]
  },
  {
   "cell_type": "markdown",
   "metadata": {},
   "source": [
    "Answer: Since $p=2.12\\%<5\\%$ we would reject $H_0$."
   ]
  },
  {
   "cell_type": "markdown",
   "metadata": {},
   "source": [
    "### Problem 2\n",
    "\n",
    "A $95\\%$ conﬁdence interval for a population with  mean $\\mu$, is given as $(18.985, 21.015)$. This conﬁdence interval is based on a simple random sample of $36$ observations. Calculate the sample mean and standard deviation. Assume that all conditions necessary for inference are satisﬁed. Use the $t$-distribution in any calculations."
   ]
  },
  {
   "cell_type": "code",
   "execution_count": 9,
   "metadata": {},
   "outputs": [
    {
     "data": {
      "text/html": [
       "'sample mean'"
      ],
      "text/latex": [
       "'sample mean'"
      ],
      "text/markdown": [
       "'sample mean'"
      ],
      "text/plain": [
       "[1] \"sample mean\""
      ]
     },
     "metadata": {},
     "output_type": "display_data"
    },
    {
     "data": {
      "text/html": [
       "1.015"
      ],
      "text/latex": [
       "1.015"
      ],
      "text/markdown": [
       "1.015"
      ],
      "text/plain": [
       "[1] 1.015"
      ]
     },
     "metadata": {},
     "output_type": "display_data"
    },
    {
     "data": {
      "text/html": [
       "'std dev'"
      ],
      "text/latex": [
       "'std dev'"
      ],
      "text/markdown": [
       "'std dev'"
      ],
      "text/plain": [
       "[1] \"std dev\""
      ]
     },
     "metadata": {},
     "output_type": "display_data"
    },
    {
     "data": {
      "text/html": [
       "59.1101578049708"
      ],
      "text/latex": [
       "59.1101578049708"
      ],
      "text/markdown": [
       "59.1101578049708"
      ],
      "text/plain": [
       "[1] 59.11016"
      ]
     },
     "metadata": {},
     "output_type": "display_data"
    }
   ],
   "source": [
    "#The mean is the middle of the confidence interval\n",
    "m=(21.015-18.985)/2\n",
    "#We can get the standard error by undoing the margin or error qt(.975,35)*SE\n",
    "SE=(21.015-m)/qt(.975,35)\n",
    "#then the standard deviation is sqrt(36)*SE\n",
    "s=6*SE\n",
    "\n",
    "\"sample mean\" \n",
    "m\n",
    "\"std dev\" \n",
    "s"
   ]
  },
  {
   "cell_type": "markdown",
   "metadata": {},
   "source": [
    "### Problem 3\n",
    "\n",
    "In each of the following scenarios, determine if the data are paired. \n",
    "\n",
    "(a) Compare pre- (beginning of semester) and post-test (end of semester) scores of students. \n",
    "\n"
   ]
  },
  {
   "cell_type": "markdown",
   "metadata": {},
   "source": [
    "Answer: Paired, because you would pair scores of the same students."
   ]
  },
  {
   "cell_type": "markdown",
   "metadata": {},
   "source": [
    "(b) Assess gender-related salary gap by comparing salaries of randomly sampled men and women. "
   ]
  },
  {
   "cell_type": "markdown",
   "metadata": {},
   "source": [
    "Answer: Independent, because the salaries of the men, *in theory*, should not effect the salaries of the women."
   ]
  },
  {
   "cell_type": "markdown",
   "metadata": {},
   "source": [
    "(c) Compare artery thicknesses at the beginning of a study and after 2 years of taking Vitamin E for the same group of patients."
   ]
  },
  {
   "cell_type": "markdown",
   "metadata": {},
   "source": [
    "Answer: Paired, because we would pair the arteries of the same patient"
   ]
  },
  {
   "cell_type": "markdown",
   "metadata": {},
   "source": [
    "(d) Assess eﬀectiveness of a diet regimen by comparing the before and after weights of subjects."
   ]
  },
  {
   "cell_type": "markdown",
   "metadata": {},
   "source": [
    "Answer: Paired, because we would pair the weights of the same subject."
   ]
  },
  {
   "cell_type": "markdown",
   "metadata": {},
   "source": [
    "### Problem 5\n",
    "\n",
    "Is there strong evidence of global warming? Let’s consider a small scale example, comparing how temperatures have changed in the US from 1968 to 2008. The daily high temperature reading on January 1 was collected in 1968 and 2008 for 51 randomly selected locations in the continental US. Then the diﬀerence between the two readings (temperature in 2008 - temperature in 1968) was calculated for each of the 51 diﬀerent locations. The average of these 51 values was 1.1 degrees with a standard deviation of 4.9 degrees.  Do these data provide strong evidence of temperature warming in the continental US? Conduct a hypothesis test; interpret your conclusions in context. (Use $t$-test)"
   ]
  },
  {
   "cell_type": "code",
   "execution_count": 1,
   "metadata": {},
   "outputs": [
    {
     "data": {
      "text/html": [
       "'one-sided p value is'"
      ],
      "text/latex": [
       "'one-sided p value is'"
      ],
      "text/markdown": [
       "'one-sided p value is'"
      ],
      "text/plain": [
       "[1] \"one-sided p value is\""
      ]
     },
     "metadata": {},
     "output_type": "display_data"
    },
    {
     "data": {
      "text/html": [
       "0.0575973078920081"
      ],
      "text/latex": [
       "0.0575973078920081"
      ],
      "text/markdown": [
       "0.0575973078920081"
      ],
      "text/plain": [
       "[1] 0.05759731"
      ]
     },
     "metadata": {},
     "output_type": "display_data"
    },
    {
     "data": {
      "text/html": [
       "'two-sided p value is'"
      ],
      "text/latex": [
       "'two-sided p value is'"
      ],
      "text/markdown": [
       "'two-sided p value is'"
      ],
      "text/plain": [
       "[1] \"two-sided p value is\""
      ]
     },
     "metadata": {},
     "output_type": "display_data"
    },
    {
     "data": {
      "text/html": [
       "0.115194615784016"
      ],
      "text/latex": [
       "0.115194615784016"
      ],
      "text/markdown": [
       "0.115194615784016"
      ],
      "text/plain": [
       "[1] 0.1151946"
      ]
     },
     "metadata": {},
     "output_type": "display_data"
    }
   ],
   "source": [
    "#start with the one-sided version.\n",
    "x = 1.1\n",
    "SE = 4.9/sqrt(51)\n",
    "T = (x-0)/SE\n",
    "\"one-sided p value is\"\n",
    "pt(-T,50)\n",
    "\n",
    "#now the two-sided\n",
    "x = 1.1\n",
    "SE = 4.9/sqrt(51)\n",
    "T = (x-0)/SE\n",
    "\"two-sided p value is\"\n",
    "2*pt(-T,50)"
   ]
  },
  {
   "cell_type": "markdown",
   "metadata": {},
   "source": [
    "Answer: The null hypothesis is $H_0: \\delta = 0$, and the alternative hypothesis is either $H_A: \\delta>0$ or $H_A: \\delta\\neq 0$. We will test both in turn.\n",
    "\n",
    "This is paired data because it is in the same places.\n",
    "\n",
    "The onesided $p$-value is $5.8\\%$ which is just bigger than $5\\%$, which means we would not reject the null hypothesis.\n",
    "\n",
    "The two sided hypothesis has $p$-value of $11.5\\%$, which is bigger than $5\\%$, and so is not strong evidence."
   ]
  }
 ],
 "metadata": {
  "kernelspec": {
   "display_name": "R",
   "language": "R",
   "name": "ir"
  },
  "language_info": {
   "codemirror_mode": "r",
   "file_extension": ".r",
   "mimetype": "text/x-r-source",
   "name": "R",
   "pygments_lexer": "r",
   "version": "3.4.4"
  }
 },
 "nbformat": 4,
 "nbformat_minor": 2
}
