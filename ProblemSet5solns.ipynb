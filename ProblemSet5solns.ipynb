{
 "cells": [
  {
   "cell_type": "markdown",
   "metadata": {},
   "source": [
    "# Problem Set 5: Probability\n",
    "\n",
    "Stat140: Introduction to the Ideas and Applications of Statistics \n"
   ]
  },
  {
   "cell_type": "markdown",
   "metadata": {},
   "source": [
    "**Problem set policies:** Please provide concise, clear answers for each question. Note that only writing the result of a calculation (e.g., \"SD = 3.3\") without explanation is not sufficient. For problems involving `R`, include the code in your solution, along with any plots.\n",
    "\t\t\n",
    "*You are encouraged to discuss problems with other students (and, of course, with the course head and the TAs), but you must write your final answer in your own words. Solutions prepared \"in committee\" are not acceptable. If you do collaborate with classmates on a problem, please list your collaborators on your solution.*"
   ]
  },
  {
   "cell_type": "markdown",
   "metadata": {},
   "source": [
    "#### Problem 1:\n",
    "\n",
    "Suppose you are helping the police develop a new test for blood alcohol levels. The potential advantage of the test is that it can be used during a routine traffic stop, but neither you nor the police are sure how accurate the test is. By design, the test should be positive when blood alcohol level is above $0.05\\%.$\n",
    "\n",
    "The test has been used on a large number of subjects where a more expensive, less convenient test is known to give perfectly accurate results. The table below shows the joint distribution for the outcome of the new test and true blood alcohol status:\n",
    "\n",
    " |         |  **Alcohol level** | **> 0.05%**  |\n",
    " \n",
    "|------------ | -- | --|\n",
    "\n",
    "|**Test Result**       |   **Yes**    |         **No** |\n",
    "\n",
    "|Positive  |        0.08       | 0.30 |\n",
    "\n",
    "|Negative     |        0.02  | 0.60 |  "
   ]
  },
  {
   "cell_type": "code",
   "execution_count": 3,
   "metadata": {},
   "outputs": [
    {
     "data": {
      "text/html": [
       "<table>\n",
       "<thead><tr><th scope=col>Result</th><th scope=col>Greater.Than.0.05</th><th scope=col>No.Greater.Than.0.05</th></tr></thead>\n",
       "<tbody>\n",
       "\t<tr><td>Positive</td><td>0.08    </td><td>0.3     </td></tr>\n",
       "\t<tr><td>Negative</td><td>0.02    </td><td>0.6     </td></tr>\n",
       "</tbody>\n",
       "</table>\n"
      ],
      "text/latex": [
       "\\begin{tabular}{r|lll}\n",
       " Result & Greater.Than.0.05 & No.Greater.Than.0.05\\\\\n",
       "\\hline\n",
       "\t Positive & 0.08     & 0.3     \\\\\n",
       "\t Negative & 0.02     & 0.6     \\\\\n",
       "\\end{tabular}\n"
      ],
      "text/markdown": [
       "\n",
       "Result | Greater.Than.0.05 | No.Greater.Than.0.05 | \n",
       "|---|---|\n",
       "| Positive | 0.08     | 0.3      | \n",
       "| Negative | 0.02     | 0.6      | \n",
       "\n",
       "\n"
      ],
      "text/plain": [
       "  Result   Greater.Than.0.05 No.Greater.Than.0.05\n",
       "1 Positive 0.08              0.3                 \n",
       "2 Negative 0.02              0.6                 "
      ]
     },
     "metadata": {},
     "output_type": "display_data"
    }
   ],
   "source": [
    "alcohol.test<-data.frame(\"Result\" =  c(\"Positive\",\"Negative\"), \"Greater Than 0.05\"=c(0.08,0.02), \"No Greater Than 0.05\"=c(0.3,0.6))\n",
    "head(alcohol.test)"
   ]
  },
  {
   "cell_type": "markdown",
   "metadata": {},
   "source": [
    "a) What is the probability that a randomly selected driver has both a positive test and a blood alcohol level higher than $0.05\\%$?"
   ]
  },
  {
   "cell_type": "markdown",
   "metadata": {},
   "source": [
    "Answer:\n",
    "$P(\\text{Test+ and Alcohol }> 0.05\\%)=Pr(A {\\cap} B)=0.08$"
   ]
  },
  {
   "cell_type": "markdown",
   "metadata": {},
   "source": [
    "b) For a randomly selected driver, what is the probability that the test will be positive?"
   ]
  },
  {
   "cell_type": "markdown",
   "metadata": {},
   "source": [
    "Answer: \n",
    "$P(\\text{Positive}) = 0.08+0.3 = 0.38$"
   ]
  },
  {
   "cell_type": "markdown",
   "metadata": {},
   "source": [
    "c) Among drivers who have a positive test, what is the probability that a driver has a blood alcohol level higher than $0.05\\%$?"
   ]
  },
  {
   "cell_type": "code",
   "execution_count": 3,
   "metadata": {},
   "outputs": [
    {
     "data": {
      "text/html": [
       "0.210526315789474"
      ],
      "text/latex": [
       "0.210526315789474"
      ],
      "text/markdown": [
       "0.210526315789474"
      ],
      "text/plain": [
       "[1] 0.2105263"
      ]
     },
     "metadata": {},
     "output_type": "display_data"
    }
   ],
   "source": [
    "#Use this for calculations\n",
    "\n",
    "0.08/0.38"
   ]
  },
  {
   "cell_type": "markdown",
   "metadata": {},
   "source": [
    "Answer:\n",
    "$P(>0.05~|~\\text{Positive}) = 0.08/0.38 \\approx 21.05\\%$"
   ]
  },
  {
   "cell_type": "markdown",
   "metadata": {},
   "source": [
    "d) Suppose $A$ is the event that a driver has a positive test result and $B$ is the event that the driver has a blood alcohol level above $0.05\\%$. Are $A$ and $B$ independent? Justify your answer."
   ]
  },
  {
   "cell_type": "code",
   "execution_count": 4,
   "metadata": {},
   "outputs": [],
   "source": [
    "#Use this for calculations\n",
    "\n"
   ]
  },
  {
   "cell_type": "markdown",
   "metadata": {},
   "source": [
    "Answer: Because $P(>0.05~|~\\text{Positive}) =21.05\\% \\neq 8\\% = P(>0.05)$ These events are not independent."
   ]
  },
  {
   "cell_type": "markdown",
   "metadata": {},
   "source": [
    "#### Problem 2:\n",
    "\n",
    "Suppose that a mandatory drug test has a false negative rate of 0.10; i.e., if an employee is a drug user, the test will incorrectly test negative with probability 0.10 and correctly indicate positive with probability 0.90. Now suppose the company HR department will test 4 employees who are *correctly* suspected to be drug users.\n",
    "\n",
    "Assume independence between employees' results and find the probability that at least one of the employees will correctly test positive.\n",
    "\t"
   ]
  },
  {
   "cell_type": "code",
   "execution_count": null,
   "metadata": {},
   "outputs": [],
   "source": [
    "#Use this space for calculations\n",
    "\n"
   ]
  },
  {
   "cell_type": "markdown",
   "metadata": {},
   "source": [
    "Answer: "
   ]
  },
  {
   "cell_type": "markdown",
   "metadata": {},
   "source": [
    "#### Problem 3:\n",
    "\n",
    "Consider the standard normal distribution with mean $\\mu=0$ and standard deviation $\\sigma= 1$. \n",
    "\n",
    "a) What is the probability that an outcome $z$ is greater than 2.60?"
   ]
  },
  {
   "cell_type": "code",
   "execution_count": 5,
   "metadata": {},
   "outputs": [
    {
     "data": {
      "text/html": [
       "0.00466118802371873"
      ],
      "text/latex": [
       "0.00466118802371873"
      ],
      "text/markdown": [
       "0.00466118802371873"
      ],
      "text/plain": [
       "[1] 0.004661188"
      ]
     },
     "metadata": {},
     "output_type": "display_data"
    }
   ],
   "source": [
    "#Answer:\n",
    "1-pnorm(2.6)"
   ]
  },
  {
   "cell_type": "markdown",
   "metadata": {},
   "source": [
    "b) What is the probability that $z$ is less than 1.35?"
   ]
  },
  {
   "cell_type": "code",
   "execution_count": 6,
   "metadata": {},
   "outputs": [
    {
     "data": {
      "text/html": [
       "0.911492008562598"
      ],
      "text/latex": [
       "0.911492008562598"
      ],
      "text/markdown": [
       "0.911492008562598"
      ],
      "text/plain": [
       "[1] 0.911492"
      ]
     },
     "metadata": {},
     "output_type": "display_data"
    }
   ],
   "source": [
    "#Answer:\n",
    "pnorm(1.35)"
   ]
  },
  {
   "cell_type": "markdown",
   "metadata": {},
   "source": [
    "c) What is the probability that $z$ is between -1.70 and 3.10?"
   ]
  },
  {
   "cell_type": "code",
   "execution_count": 7,
   "metadata": {},
   "outputs": [
    {
     "data": {
      "text/html": [
       "0.954466934028239"
      ],
      "text/latex": [
       "0.954466934028239"
      ],
      "text/markdown": [
       "0.954466934028239"
      ],
      "text/plain": [
       "[1] 0.9544669"
      ]
     },
     "metadata": {},
     "output_type": "display_data"
    }
   ],
   "source": [
    "#Answer:\n",
    "pnorm(3.1)-pnorm(-1.7)"
   ]
  },
  {
   "cell_type": "markdown",
   "metadata": {},
   "source": [
    "d) What value of $z$ cuts off the upper 15% of the standard normal distribution?"
   ]
  },
  {
   "cell_type": "code",
   "execution_count": 8,
   "metadata": {},
   "outputs": [
    {
     "data": {
      "text/html": [
       "1.03643338949379"
      ],
      "text/latex": [
       "1.03643338949379"
      ],
      "text/markdown": [
       "1.03643338949379"
      ],
      "text/plain": [
       "[1] 1.036433"
      ]
     },
     "metadata": {},
     "output_type": "display_data"
    }
   ],
   "source": [
    "#Answer:\n",
    "-qnorm(0.15)"
   ]
  },
  {
   "cell_type": "markdown",
   "metadata": {},
   "source": [
    "e) What value of $z$ marks off the lower 20% of the distribution?"
   ]
  },
  {
   "cell_type": "code",
   "execution_count": 9,
   "metadata": {},
   "outputs": [
    {
     "data": {
      "text/html": [
       "-0.841621233572914"
      ],
      "text/latex": [
       "-0.841621233572914"
      ],
      "text/markdown": [
       "-0.841621233572914"
      ],
      "text/plain": [
       "[1] -0.8416212"
      ]
     },
     "metadata": {},
     "output_type": "display_data"
    }
   ],
   "source": [
    "#Answer:\n",
    "qnorm(0.2)"
   ]
  },
  {
   "cell_type": "markdown",
   "metadata": {},
   "source": [
    "#### Problem 4:\n",
    "\n",
    "The World Health Organization defines osteoporosis in young adults as a measured bone mineral density 2.5 or more standard deviations below the mean for young adults. Assume that bone mineral density follows a normal distribution in young adults. What percentage of young adults suffer from osteoporosis according to this criterion? Put your answer in terms of the question.\n"
   ]
  },
  {
   "cell_type": "code",
   "execution_count": 11,
   "metadata": {},
   "outputs": [
    {
     "data": {
      "text/html": [
       "0.00620966532577613"
      ],
      "text/latex": [
       "0.00620966532577613"
      ],
      "text/markdown": [
       "0.00620966532577613"
      ],
      "text/plain": [
       "[1] 0.006209665"
      ]
     },
     "metadata": {},
     "output_type": "display_data"
    }
   ],
   "source": [
    "#Use this area for calculations\n",
    "\n",
    "pnorm(-2.5)"
   ]
  },
  {
   "cell_type": "markdown",
   "metadata": {},
   "source": [
    "Answer: About $0.62\\%$ of young adults suffer from osteoporosis."
   ]
  }
 ],
 "metadata": {
  "kernelspec": {
   "display_name": "R",
   "language": "R",
   "name": "ir"
  },
  "language_info": {
   "codemirror_mode": "r",
   "file_extension": ".r",
   "mimetype": "text/x-r-source",
   "name": "R",
   "pygments_lexer": "r",
   "version": "3.4.4"
  }
 },
 "nbformat": 4,
 "nbformat_minor": 2
}
