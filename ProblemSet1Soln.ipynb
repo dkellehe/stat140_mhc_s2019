{
 "cells": [
  {
   "cell_type": "markdown",
   "metadata": {},
   "source": [
    "# <span style=\"color:darkblue\"> Problem Set 1\n",
    "\n",
    "Due: Thursday, Feb 9 @ Midnight"
   ]
  },
  {
   "cell_type": "markdown",
   "metadata": {},
   "source": [
    "### Problem set policies\n",
    "\n",
    "Please provide concise, clear answers for each question. Note that only writing the result of a calculation (e.g., \"SD = 3.3\") without explanation is not sufficient. For problems involving `R`, include the code in your solution, along with any plots.\n",
    "\t\t\n",
    "*You are encouraged to discuss problems with other students (and, of course, with the course head and the TAs), but you must write your final answer in your own words. Solutions prepared \"in committee\" are not acceptable.*"
   ]
  },
  {
   "cell_type": "markdown",
   "metadata": {},
   "source": [
    "## Problem 1\n",
    "\n",
    "The problems below need to be answered *in context of the data*! This means that you need to answer in full sentences that explain about the dataset that could be understood without knowing the question!\n",
    "\n",
    "### Background:\n",
    "The adolescentFertility dataset includes data on the number of children born to women aged 15-19 from 189 countries around the world for the years 1997, 2000, 2002, 2005, and 2006. The data are defined such that the values for the annual adolescent fertility rates represent the number of live births among women aged 15-19 per 1,000 women members of the population of that age.\n",
    "\n",
    "For the years 2000-2006, the adolescent fertility rate for Iraq is coded `NA`, or missing. When calculating a mean or standard deviation in `R` for a variable `x` which has missing data, add `na.rm=TRUE` to the argument to perform the calculations without the missing observations, e.g. `mean(x, na.rm=TRUE)` and `sd(x, na.rm=TRUE).`\n",
    "\n",
    "Below is the code that you will need to use to load the data:"
   ]
  },
  {
   "cell_type": "code",
   "execution_count": 2,
   "metadata": {},
   "outputs": [
    {
     "data": {
      "text/html": [
       "<table>\n",
       "<thead><tr><th scope=col>Country</th><th scope=col>fert_1997</th><th scope=col>fert_2000</th><th scope=col>fert_2002</th><th scope=col>fert_2005</th><th scope=col>fert_2006</th></tr></thead>\n",
       "<tbody>\n",
       "\t<tr><td>Albania  </td><td> 15.742  </td><td> 15.6448 </td><td> 15.580  </td><td> 15.5944 </td><td> 15.5992 </td></tr>\n",
       "\t<tr><td>Algeria  </td><td> 11.771  </td><td>  9.8312 </td><td>  8.538  </td><td>  7.8192 </td><td>  7.5796 </td></tr>\n",
       "\t<tr><td>Angola   </td><td>145.314  </td><td>143.8236 </td><td>142.830  </td><td>139.6416 </td><td>138.5788 </td></tr>\n",
       "\t<tr><td>Argentina</td><td> 69.800  </td><td> 64.3400 </td><td> 60.700  </td><td> 58.4200 </td><td> 57.6600 </td></tr>\n",
       "\t<tr><td>Armenia  </td><td> 52.955  </td><td> 39.7106 </td><td> 30.881  </td><td> 30.0746 </td><td> 29.8058 </td></tr>\n",
       "\t<tr><td>Aruba    </td><td> 35.063  </td><td> 31.1534 </td><td> 28.547  </td><td> 24.8828 </td><td> 23.6614 </td></tr>\n",
       "</tbody>\n",
       "</table>\n"
      ],
      "text/latex": [
       "\\begin{tabular}{r|llllll}\n",
       " Country & fert\\_1997 & fert\\_2000 & fert\\_2002 & fert\\_2005 & fert\\_2006\\\\\n",
       "\\hline\n",
       "\t Albania   &  15.742   &  15.6448  &  15.580   &  15.5944  &  15.5992 \\\\\n",
       "\t Algeria   &  11.771   &   9.8312  &   8.538   &   7.8192  &   7.5796 \\\\\n",
       "\t Angola    & 145.314   & 143.8236  & 142.830   & 139.6416  & 138.5788 \\\\\n",
       "\t Argentina &  69.800   &  64.3400  &  60.700   &  58.4200  &  57.6600 \\\\\n",
       "\t Armenia   &  52.955   &  39.7106  &  30.881   &  30.0746  &  29.8058 \\\\\n",
       "\t Aruba     &  35.063   &  31.1534  &  28.547   &  24.8828  &  23.6614 \\\\\n",
       "\\end{tabular}\n"
      ],
      "text/markdown": [
       "\n",
       "Country | fert_1997 | fert_2000 | fert_2002 | fert_2005 | fert_2006 | \n",
       "|---|---|---|---|---|---|\n",
       "| Albania   |  15.742   |  15.6448  |  15.580   |  15.5944  |  15.5992  | \n",
       "| Algeria   |  11.771   |   9.8312  |   8.538   |   7.8192  |   7.5796  | \n",
       "| Angola    | 145.314   | 143.8236  | 142.830   | 139.6416  | 138.5788  | \n",
       "| Argentina |  69.800   |  64.3400  |  60.700   |  58.4200  |  57.6600  | \n",
       "| Armenia   |  52.955   |  39.7106  |  30.881   |  30.0746  |  29.8058  | \n",
       "| Aruba     |  35.063   |  31.1534  |  28.547   |  24.8828  |  23.6614  | \n",
       "\n",
       "\n"
      ],
      "text/plain": [
       "  Country   fert_1997 fert_2000 fert_2002 fert_2005 fert_2006\n",
       "1 Albania    15.742    15.6448   15.580    15.5944   15.5992 \n",
       "2 Algeria    11.771     9.8312    8.538     7.8192    7.5796 \n",
       "3 Angola    145.314   143.8236  142.830   139.6416  138.5788 \n",
       "4 Argentina  69.800    64.3400   60.700    58.4200   57.6600 \n",
       "5 Armenia    52.955    39.7106   30.881    30.0746   29.8058 \n",
       "6 Aruba      35.063    31.1534   28.547    24.8828   23.6614 "
      ]
     },
     "metadata": {},
     "output_type": "display_data"
    }
   ],
   "source": [
    "adolescentFertility = read.csv(\"https://www.mtholyoke.edu/courses/afoulkes/ClassData/adolescentFertility.csv\")\n",
    "head(adolescentFertility)"
   ]
  },
  {
   "cell_type": "markdown",
   "metadata": {},
   "source": [
    "a) Get a `summary` of the data."
   ]
  },
  {
   "cell_type": "code",
   "execution_count": 18,
   "metadata": {},
   "outputs": [
    {
     "data": {
      "text/plain": [
       "      Country      fert_1997         fert_2000        fert_2002      \n",
       " Albania  :  1   Min.   :  1.633   Min.   :  1.55   Min.   :  1.495  \n",
       " Algeria  :  1   1st Qu.: 24.933   1st Qu.: 22.29   1st Qu.: 19.620  \n",
       " Angola   :  1   Median : 52.326   Median : 46.39   Median : 43.709  \n",
       " Argentina:  1   Mean   : 65.859   Mean   : 61.66   Mean   : 58.787  \n",
       " Armenia  :  1   3rd Qu.: 94.020   3rd Qu.: 89.33   3rd Qu.: 84.887  \n",
       " Aruba    :  1   Max.   :230.480   Max.   :230.48   Max.   :230.480  \n",
       " (Other)  :183                     NA's   :1        NA's   :1        \n",
       "   fert_2005         fert_2006      \n",
       " Min.   :  1.464   Min.   :  1.453  \n",
       " 1st Qu.: 18.201   1st Qu.: 17.876  \n",
       " Median : 41.240   Median : 40.068  \n",
       " Mean   : 54.885   Mean   : 53.584  \n",
       " 3rd Qu.: 78.967   3rd Qu.: 75.727  \n",
       " Max.   :225.495   Max.   :223.834  \n",
       " NA's   :1         NA's   :1        "
      ]
     },
     "metadata": {},
     "output_type": "display_data"
    }
   ],
   "source": [
    "### Write code for summary here\n",
    "summary(adolescentFertility)"
   ]
  },
  {
   "cell_type": "markdown",
   "metadata": {},
   "source": [
    "b) What is the ${75}^{th}$ percentile of the distribution of adolescent fertility in 2006? Write a sentence explaining the ${75}^{th}$ percentile in the context of this data."
   ]
  },
  {
   "cell_type": "markdown",
   "metadata": {},
   "source": [
    "Answer: One quarter of the countries sampled has more than a 75.727 fertility rate in 2006"
   ]
  },
  {
   "cell_type": "markdown",
   "metadata": {},
   "source": [
    "c) The observations for Iraq be missing between 2000 and 2006. Would the summaries in part (b) have been affected very much if the values had been available?"
   ]
  },
  {
   "cell_type": "markdown",
   "metadata": {},
   "source": [
    "Answer:  No, because these are robust statistics"
   ]
  },
  {
   "cell_type": "markdown",
   "metadata": {},
   "source": [
    "Here are some side-by-side boxplots of the fertility rates for each of the five years in the dataset. \n",
    "\n",
    "In order to create the side by side boxplots using `ggplot()` as done in class, you will need to first `gather()` the $2-6$ columns to make a new *long* data set as follows, and then apply `ggplot()` to this new data set (`adolescentFertilityLong`). "
   ]
  },
  {
   "cell_type": "code",
   "execution_count": 9,
   "metadata": {},
   "outputs": [
    {
     "name": "stderr",
     "output_type": "stream",
     "text": [
      "Warning message:\n",
      "“Removed 4 rows containing non-finite values (stat_boxplot).”"
     ]
    },
    {
     "data": {},
     "metadata": {},
     "output_type": "display_data"
    },
    {
     "data": {
      "image/png": "[encoded data removed]",
      "text/plain": [
       "plot without title"
      ]
     },
     "metadata": {},
     "output_type": "display_data"
    }
   ],
   "source": [
    "require(tidyr) ## Loads a whole universe of data manipulation functions\n",
    "library(ggplot2) ## Loads the functions which makes pretty pictures\n",
    "# Merge data into \"tidy\" form (this is better for ggplotting)\n",
    "adolescentFertilityLong = gather(adolescentFertility,\"fert\",\"n\",2:6) \n",
    "#\n",
    "ggplot(data=adolescentFertilityLong, aes(x=fert,y=n))+geom_boxplot()+theme_bw()"
   ]
  },
  {
   "cell_type": "markdown",
   "metadata": {},
   "source": [
    "d) What pattern do you see? Be sure to state the results in the context of the data."
   ]
  },
  {
   "cell_type": "markdown",
   "metadata": {},
   "source": [
    "Answer: World-wide fertility rates have been decreasing. In particular, the median fertility rate has been decreasing year over year."
   ]
  },
  {
   "cell_type": "markdown",
   "metadata": {},
   "source": [
    "## Problem 2\n",
    "\n",
    "In a 2003 study examining weight and body image concerns among young Korean women, researchers administered a questionnaire to 264 female college students in Seoul, South Korea [1]. The survey was designed to assess excessive concern with weight and dieting, consisting of questions such as \"If I gain a pound, I worry that I will keep gaining \"[2].\n",
    "\n",
    "Questionnaires were given numerical scores on the Drive for Thinness Scale. Roughly speaking, a score of 15 is typical of Western women with eating disorders, but unusually high (${90}^{th}$) percentile for other Western women. The data can be loaded into R using the code below.\n",
    "\n",
    "[1] Ryu HH, et al. Factors associated with weight concerns and unhealthy eating patterns among young Korean females. *Eating Disorders* 2003; **11**: 129-141.\n",
    "[2] Garner DM, et al. Development and validation of a multidimensional eating disorder inventory for anorexia nervosa and bulimia. *International Journal of Eating Disorders* 1983; **2**: 15-34.\n"
   ]
  },
  {
   "cell_type": "code",
   "execution_count": 17,
   "metadata": {},
   "outputs": [
    {
     "data": {},
     "metadata": {},
     "output_type": "display_data"
    },
    {
     "data": {
      "image/png": "[encoded data removed]",
      "text/plain": [
       "plot without title"
      ]
     },
     "metadata": {},
     "output_type": "display_data"
    }
   ],
   "source": [
    "SeoulBodyImage = read.csv(\"https://www.mtholyoke.edu/courses/afoulkes/ClassData/SeoulBodyImage.csv\")\n",
    "ggplot(data=SeoulBodyImage,aes(x=dtscore))+geom_histogram(binwidth=1)+theme_bw()"
   ]
  },
  {
   "cell_type": "markdown",
   "metadata": {},
   "source": [
    "Describe the shape, center, and spread of the scores for these Korean students. Are there any outliers? "
   ]
  },
  {
   "cell_type": "markdown",
   "metadata": {},
   "source": [
    "Answer: The data ranges from -1 to 18, the data is centered between 0 and 5 is skewed to the *right*, as the data trails off in that direction, but there are no eggregious outliers IMO."
   ]
  },
  {
   "cell_type": "code",
   "execution_count": null,
   "metadata": {},
   "outputs": [],
   "source": []
  }
 ],
 "metadata": {
  "kernelspec": {
   "display_name": "R",
   "language": "R",
   "name": "ir"
  },
  "language_info": {
   "codemirror_mode": "r",
   "file_extension": ".r",
   "mimetype": "text/x-r-source",
   "name": "R",
   "pygments_lexer": "r",
   "version": "3.4.4"
  }
 },
 "nbformat": 4,
 "nbformat_minor": 2
}
