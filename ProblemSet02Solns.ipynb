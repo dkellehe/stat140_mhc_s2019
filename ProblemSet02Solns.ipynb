{
 "cells": [
  {
   "cell_type": "markdown",
   "metadata": {},
   "source": [
    "## <span style=\"color:darkblue\"> Problem Set 2: Introduction to Data (continued)\n",
    "\n",
    "Stat140: Introduction to the Ideas and Applications of Statistics \n",
    "\n"
   ]
  },
  {
   "cell_type": "markdown",
   "metadata": {},
   "source": [
    "## Background information \n",
    "\n",
    "### Over the next 3 weeks we will be using a single dataset, and go through how one might analyse that dataset for a given purpose, the following is the context that this data set comes from. Remember, context is always important when doing data analysis.\n",
    "\n",
    "In the United States, individuals with developmental disabilities typically receive services and support from state governments. The State of California allocates funds to developmentally-disabled residents through the California Department of Developmental Services (DDS); individuals receiving DDS funds are referred to as 'consumers'. The dataset \\texttt{dds.discr} represents a sample of 1,000 DDS consumers (out of a total population of approximately 250,000), and includes information about age, gender, ethnicity, and the amount of financial support per consumer provided by the DDS. The dataset is available in the \\texttt{oibiostat} package.\n",
    "\n",
    "A team of researchers examined the mean annual expenditure on consumers by ethnicity, and found that the mean annual expenditures on Hispanic consumers was approximately one-third of the mean expenditures on White non-Hispanic consumers. As a result, an allegation of ethnic discrimination was brought against the California DDS.\n",
    "\n",
    "Does this finding represent sufficient evidence of ethnic discrimination, or might there be more to the story? This lab provides a walkthrough to conducting an exploratory analysis that not only investigates the relationship between two variables of interest, but also considers whether other variables might be influencing that relationship."
   ]
  },
  {
   "cell_type": "markdown",
   "metadata": {},
   "source": [
    "## PART 1: Distributions of single variables\n",
    "\n",
    "We will do *Exploratory Numerical Analysis* of the variables associated of `dds.disc` by themselves. Keep in mind we are asking ourselves about evidence of discrimination.\n",
    "\n",
    "To begin understanding a dataset and developing a sense of context, start by examining the distributions of single variables. To load the data into R and look at the first six records, use the following code:"
   ]
  },
  {
   "cell_type": "code",
   "execution_count": 1,
   "metadata": {},
   "outputs": [
    {
     "name": "stderr",
     "output_type": "stream",
     "text": [
      "Loading required package: oibiostat\n"
     ]
    },
    {
     "data": {
      "text/html": [
       "<table>\n",
       "<thead><tr><th scope=col>id</th><th scope=col>age.cohort</th><th scope=col>age</th><th scope=col>gender</th><th scope=col>expenditures</th><th scope=col>ethnicity</th></tr></thead>\n",
       "<tbody>\n",
       "\t<tr><td>10210             </td><td>13-17             </td><td>17                </td><td>Female            </td><td> 2113             </td><td>White not Hispanic</td></tr>\n",
       "\t<tr><td>10409             </td><td>22-50             </td><td>37                </td><td>Male              </td><td>41924             </td><td>White not Hispanic</td></tr>\n",
       "\t<tr><td>10486             </td><td>0-5               </td><td> 3                </td><td>Male              </td><td> 1454             </td><td>Hispanic          </td></tr>\n",
       "\t<tr><td>10538             </td><td>18-21             </td><td>19                </td><td>Female            </td><td> 6400             </td><td>Hispanic          </td></tr>\n",
       "\t<tr><td>10568             </td><td>13-17             </td><td>13                </td><td>Male              </td><td> 4412             </td><td>White not Hispanic</td></tr>\n",
       "\t<tr><td>10690             </td><td>13-17             </td><td>15                </td><td>Female            </td><td> 4566             </td><td>Hispanic          </td></tr>\n",
       "</tbody>\n",
       "</table>\n"
      ],
      "text/latex": [
       "\\begin{tabular}{r|llllll}\n",
       " id & age.cohort & age & gender & expenditures & ethnicity\\\\\n",
       "\\hline\n",
       "\t 10210              & 13-17              & 17                 & Female             &  2113              & White not Hispanic\\\\\n",
       "\t 10409              & 22-50              & 37                 & Male               & 41924              & White not Hispanic\\\\\n",
       "\t 10486              & 0-5                &  3                 & Male               &  1454              & Hispanic          \\\\\n",
       "\t 10538              & 18-21              & 19                 & Female             &  6400              & Hispanic          \\\\\n",
       "\t 10568              & 13-17              & 13                 & Male               &  4412              & White not Hispanic\\\\\n",
       "\t 10690              & 13-17              & 15                 & Female             &  4566              & Hispanic          \\\\\n",
       "\\end{tabular}\n"
      ],
      "text/markdown": [
       "\n",
       "id | age.cohort | age | gender | expenditures | ethnicity | \n",
       "|---|---|---|---|---|---|\n",
       "| 10210              | 13-17              | 17                 | Female             |  2113              | White not Hispanic | \n",
       "| 10409              | 22-50              | 37                 | Male               | 41924              | White not Hispanic | \n",
       "| 10486              | 0-5                |  3                 | Male               |  1454              | Hispanic           | \n",
       "| 10538              | 18-21              | 19                 | Female             |  6400              | Hispanic           | \n",
       "| 10568              | 13-17              | 13                 | Male               |  4412              | White not Hispanic | \n",
       "| 10690              | 13-17              | 15                 | Female             |  4566              | Hispanic           | \n",
       "\n",
       "\n"
      ],
      "text/plain": [
       "  id    age.cohort age gender expenditures ethnicity         \n",
       "1 10210 13-17      17  Female  2113        White not Hispanic\n",
       "2 10409 22-50      37  Male   41924        White not Hispanic\n",
       "3 10486 0-5         3  Male    1454        Hispanic          \n",
       "4 10538 18-21      19  Female  6400        Hispanic          \n",
       "5 10568 13-17      13  Male    4412        White not Hispanic\n",
       "6 10690 13-17      15  Female  4566        Hispanic          "
      ]
     },
     "metadata": {},
     "output_type": "display_data"
    }
   ],
   "source": [
    "#Run this to load the data set and see a preview of it's contents.\n",
    "require(oibiostat)\n",
    "data(\"dds.discr\")\n",
    "head(dds.discr)"
   ]
  },
  {
   "cell_type": "markdown",
   "metadata": {},
   "source": [
    "## Problem 1\n",
    "\n",
    "Describe the distribution of annual `expenditures`:\n",
    "(a) Create a numerical `summary`.\n",
    "(b) Create an appropriate graphic for the type of variable.\n",
    "(c) Describe the shape of the Distribution in words as we discussed in class.\n",
    "(d) Does this provide evidence od discrimination?\n"
   ]
  },
  {
   "cell_type": "markdown",
   "metadata": {},
   "source": [
    "#### Solution"
   ]
  },
  {
   "cell_type": "code",
   "execution_count": 2,
   "metadata": {},
   "outputs": [
    {
     "data": {
      "text/plain": [
       "   Min. 1st Qu.  Median    Mean 3rd Qu.    Max. \n",
       "    222    2899    7026   18066   37713   75098 "
      ]
     },
     "metadata": {},
     "output_type": "display_data"
    }
   ],
   "source": [
    "# (a) Numerical Summary\n",
    "summary(dds.discr$expenditures)"
   ]
  },
  {
   "cell_type": "code",
   "execution_count": 16,
   "metadata": {},
   "outputs": [
    {
     "data": {},
     "metadata": {},
     "output_type": "display_data"
    },
    {
     "data": {
      "image/png": "[encoded data removed]",
      "text/plain": [
       "plot without title"
      ]
     },
     "metadata": {},
     "output_type": "display_data"
    }
   ],
   "source": [
    "# (b) Graphic\n",
    "require(ggplot2)\n",
    "ggplot(data=dds.discr,aes(expenditures)) +\n",
    "    geom_histogram(bins=30,fill='blue',alpha=0.4)"
   ]
  },
  {
   "cell_type": "markdown",
   "metadata": {},
   "source": [
    "Answer (c): \n",
    "\n",
    "The distribution of annual expenditures exhibits right skew, with two modes. The first mode, a majority of consumers, expenditures are relatively low: most are within the $ \\$0-\\$17,500$ range.\n",
    "\n",
    "There is a second mode of consumers for which expenditures are much higher, such as within the $\\$25,000-\\$60,000$ range.\n",
    "\n",
    "Answer (d): \n",
    "\n",
    "The two modes suggest that there are two groups of consumers, one of which both makes up a minority and recieves much higher expenditures."
   ]
  },
  {
   "cell_type": "markdown",
   "metadata": {},
   "source": [
    "The cohorts are indicative of particular life phases. In the first three cohorts, consumers are still living with their parents as they move through preschool age, elementary/middle school age, and high school age. In the 18-21 cohort, consumers are transitioning from their parents' homes to living on their own or in supportive group homes. From ages 22-50, individuals are mostly no longer living with their parents but may still receive some support from family. In the 51+ cohort, consumers often have no living parents and typically require the most amount of support.\n",
    "\n",
    "## Problem 2\n",
    "\n",
    "Describe the variable `age.cohort`. (a) Create a numerical `summary`, (b) Create teh appropriate visualization for this type of variable \n",
    "    \n",
    " "
   ]
  },
  {
   "cell_type": "markdown",
   "metadata": {},
   "source": [
    "#### Solution:"
   ]
  },
  {
   "cell_type": "code",
   "execution_count": 6,
   "metadata": {},
   "outputs": [
    {
     "data": {
      "text/html": [
       "<dl class=dl-horizontal>\n",
       "\t<dt>0-5</dt>\n",
       "\t\t<dd>82</dd>\n",
       "\t<dt>6-12</dt>\n",
       "\t\t<dd>175</dd>\n",
       "\t<dt>13-17</dt>\n",
       "\t\t<dd>212</dd>\n",
       "\t<dt>18-21</dt>\n",
       "\t\t<dd>199</dd>\n",
       "\t<dt>22-50</dt>\n",
       "\t\t<dd>226</dd>\n",
       "\t<dt>51+</dt>\n",
       "\t\t<dd>106</dd>\n",
       "</dl>\n"
      ],
      "text/latex": [
       "\\begin{description*}\n",
       "\\item[0-5] 82\n",
       "\\item[6-12] 175\n",
       "\\item[13-17] 212\n",
       "\\item[18-21] 199\n",
       "\\item[22-50] 226\n",
       "\\item[51+] 106\n",
       "\\end{description*}\n"
      ],
      "text/markdown": [
       "0-5\n",
       ":   826-12\n",
       ":   17513-17\n",
       ":   21218-21\n",
       ":   19922-50\n",
       ":   22651+\n",
       ":   106\n",
       "\n"
      ],
      "text/plain": [
       "  0-5  6-12 13-17 18-21 22-50   51+ \n",
       "   82   175   212   199   226   106 "
      ]
     },
     "metadata": {},
     "output_type": "display_data"
    }
   ],
   "source": [
    "# (a) Numerical Summary\n",
    "summary(dds.discr$age.cohort)"
   ]
  },
  {
   "cell_type": "code",
   "execution_count": 12,
   "metadata": {},
   "outputs": [
    {
     "data": {},
     "metadata": {},
     "output_type": "display_data"
    },
    {
     "data": {
      "image/png": "[encoded data removed]",
      "text/plain": [
       "plot without title"
      ]
     },
     "metadata": {},
     "output_type": "display_data"
    }
   ],
   "source": [
    "# (B) the appropriate graphic\n",
    "ggplot(data=dds.discr,aes(age.cohort)) +\n",
    "    geom_bar(fill='blue',alpha=0.4)"
   ]
  },
  {
   "cell_type": "markdown",
   "metadata": {},
   "source": [
    "### Problem 3\n",
    "\n",
    "Describe the variable `ethnicity`: (a) create a numerical `summary`, (b) create the appropriate visualization (c) Describe the distribution."
   ]
  },
  {
   "cell_type": "markdown",
   "metadata": {},
   "source": [
    "#### Solution:"
   ]
  },
  {
   "cell_type": "code",
   "execution_count": 13,
   "metadata": {},
   "outputs": [
    {
     "data": {
      "text/html": [
       "<dl class=dl-horizontal>\n",
       "\t<dt>American Indian</dt>\n",
       "\t\t<dd>4</dd>\n",
       "\t<dt>Asian</dt>\n",
       "\t\t<dd>129</dd>\n",
       "\t<dt>Black</dt>\n",
       "\t\t<dd>59</dd>\n",
       "\t<dt>Hispanic</dt>\n",
       "\t\t<dd>376</dd>\n",
       "\t<dt>Multi Race</dt>\n",
       "\t\t<dd>26</dd>\n",
       "\t<dt>Native Hawaiian</dt>\n",
       "\t\t<dd>3</dd>\n",
       "\t<dt>Other</dt>\n",
       "\t\t<dd>2</dd>\n",
       "\t<dt>White not Hispanic</dt>\n",
       "\t\t<dd>401</dd>\n",
       "</dl>\n"
      ],
      "text/latex": [
       "\\begin{description*}\n",
       "\\item[American Indian] 4\n",
       "\\item[Asian] 129\n",
       "\\item[Black] 59\n",
       "\\item[Hispanic] 376\n",
       "\\item[Multi Race] 26\n",
       "\\item[Native Hawaiian] 3\n",
       "\\item[Other] 2\n",
       "\\item[White not Hispanic] 401\n",
       "\\end{description*}\n"
      ],
      "text/markdown": [
       "American Indian\n",
       ":   4Asian\n",
       ":   129Black\n",
       ":   59Hispanic\n",
       ":   376Multi Race\n",
       ":   26Native Hawaiian\n",
       ":   3Other\n",
       ":   2White not Hispanic\n",
       ":   401\n",
       "\n"
      ],
      "text/plain": [
       "   American Indian              Asian              Black           Hispanic \n",
       "                 4                129                 59                376 \n",
       "        Multi Race    Native Hawaiian              Other White not Hispanic \n",
       "                26                  3                  2                401 "
      ]
     },
     "metadata": {},
     "output_type": "display_data"
    }
   ],
   "source": [
    "#(a) Numerical Summary\n",
    "summary(dds.discr$ethnicity)"
   ]
  },
  {
   "cell_type": "code",
   "execution_count": 14,
   "metadata": {},
   "outputs": [
    {
     "data": {},
     "metadata": {},
     "output_type": "display_data"
    },
    {
     "data": {
      "image/png": "[encoded data removed]",
      "text/plain": [
       "plot without title"
      ]
     },
     "metadata": {},
     "output_type": "display_data"
    }
   ],
   "source": [
    "ggplot(data=dds.discr,aes(ethnicity)) +\n",
    "    geom_bar(alpha=.4,fill='blue')"
   ]
  },
  {
   "cell_type": "markdown",
   "metadata": {},
   "source": [
    "There are eight ethnic groups represented in the data, however there is not equal representation. The two largest groups, Hispanics and White non-Hispanics, together represent about 80% of the consumers."
   ]
  },
  {
   "cell_type": "markdown",
   "metadata": {},
   "source": [
    "## Problem 4\n",
    "\n",
    "Describe the `gender` variable: (a) Create the appropriate visualization. (b) Does gender appear to be balanced in this sample of consumers?"
   ]
  },
  {
   "cell_type": "markdown",
   "metadata": {},
   "source": [
    "#### Solution:"
   ]
  },
  {
   "cell_type": "code",
   "execution_count": 15,
   "metadata": {},
   "outputs": [
    {
     "data": {},
     "metadata": {},
     "output_type": "display_data"
    },
    {
     "data": {
      "image/png": "[encoded data removed]",
      "text/plain": [
       "plot without title"
      ]
     },
     "metadata": {},
     "output_type": "display_data"
    }
   ],
   "source": [
    "ggplot(data=dds.discr,aes(gender)) +\n",
    "    geom_bar(alpha=.4,fill='blue')"
   ]
  },
  {
   "cell_type": "markdown",
   "metadata": {},
   "source": [
    "Yes, approximately half the individuals are female and half are male."
   ]
  }
 ],
 "metadata": {
  "kernelspec": {
   "display_name": "R",
   "language": "R",
   "name": "ir"
  },
  "language_info": {
   "codemirror_mode": "r",
   "file_extension": ".r",
   "mimetype": "text/x-r-source",
   "name": "R",
   "pygments_lexer": "r",
   "version": "3.4.4"
  }
 },
 "nbformat": 4,
 "nbformat_minor": 2
}
