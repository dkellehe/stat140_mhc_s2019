{
 "cells": [
  {
   "cell_type": "markdown",
   "metadata": {},
   "source": [
    "## Reading Quiz 3\n",
    "\n",
    "Complete The Chapters Data Wrangling and Data Visualization from Introduction to the Tidyverse.\n",
    "\n",
    "Okay, now you know a bit about the Tidyverse, let's put that to the test. Enter your name below:"
   ]
  },
  {
   "cell_type": "markdown",
   "metadata": {},
   "source": [
    "#### NAME:  "
   ]
  },
  {
   "cell_type": "markdown",
   "metadata": {},
   "source": [
    "### Problem 1\n",
    "\n",
    "Load\n",
    "\n",
    "1) Tidyverse\n",
    "\n",
    "2) dplyr\n",
    "\n",
    "3) ggplot2"
   ]
  },
  {
   "cell_type": "code",
   "execution_count": 2,
   "metadata": {},
   "outputs": [
    {
     "name": "stderr",
     "output_type": "stream",
     "text": [
      "Loading required package: tidyverse\n",
      "── Attaching packages ─────────────────────────────────────── tidyverse 1.2.1 ──\n",
      "✔ ggplot2 3.1.0     ✔ purrr   0.2.5\n",
      "✔ tibble  1.4.2     ✔ dplyr   0.7.8\n",
      "✔ tidyr   0.8.2     ✔ stringr 1.3.1\n",
      "✔ readr   1.3.0     ✔ forcats 0.3.0\n",
      "── Conflicts ────────────────────────────────────────── tidyverse_conflicts() ──\n",
      "✖ dplyr::filter() masks stats::filter()\n",
      "✖ dplyr::lag()    masks stats::lag()\n"
     ]
    }
   ],
   "source": [
    "# tidyverse\n",
    "require(tidyverse)\n",
    "# dplyr\n",
    "library(dplyr)\n",
    "# ggplot2\n",
    "library(ggplot2)"
   ]
  },
  {
   "cell_type": "markdown",
   "metadata": {},
   "source": [
    "### Problem 2\n",
    "Run the cell below:"
   ]
  },
  {
   "cell_type": "code",
   "execution_count": 1,
   "metadata": {},
   "outputs": [
    {
     "name": "stderr",
     "output_type": "stream",
     "text": [
      "Loading required package: oibiostat\n"
     ]
    }
   ],
   "source": [
    "#Run, but do not change\n",
    "require(oibiostat)\n",
    "######"
   ]
  },
  {
   "cell_type": "markdown",
   "metadata": {},
   "source": [
    "Load the `iris` data set and sort (ascending) by `Sepal.Length`, and view the first 10 entries. What do you notice about the species? For full points, use `%>%`."
   ]
  },
  {
   "cell_type": "code",
   "execution_count": 8,
   "metadata": {},
   "outputs": [
    {
     "data": {
      "text/html": [
       "<table>\n",
       "<thead><tr><th scope=col>Sepal.Length</th><th scope=col>Sepal.Width</th><th scope=col>Petal.Length</th><th scope=col>Petal.Width</th><th scope=col>Species</th></tr></thead>\n",
       "<tbody>\n",
       "\t<tr><td>4.3   </td><td>3.0   </td><td>1.1   </td><td>0.1   </td><td>setosa</td></tr>\n",
       "\t<tr><td>4.4   </td><td>2.9   </td><td>1.4   </td><td>0.2   </td><td>setosa</td></tr>\n",
       "\t<tr><td>4.4   </td><td>3.0   </td><td>1.3   </td><td>0.2   </td><td>setosa</td></tr>\n",
       "\t<tr><td>4.4   </td><td>3.2   </td><td>1.3   </td><td>0.2   </td><td>setosa</td></tr>\n",
       "\t<tr><td>4.5   </td><td>2.3   </td><td>1.3   </td><td>0.3   </td><td>setosa</td></tr>\n",
       "\t<tr><td>4.6   </td><td>3.1   </td><td>1.5   </td><td>0.2   </td><td>setosa</td></tr>\n",
       "\t<tr><td>4.6   </td><td>3.4   </td><td>1.4   </td><td>0.3   </td><td>setosa</td></tr>\n",
       "\t<tr><td>4.6   </td><td>3.6   </td><td>1.0   </td><td>0.2   </td><td>setosa</td></tr>\n",
       "\t<tr><td>4.6   </td><td>3.2   </td><td>1.4   </td><td>0.2   </td><td>setosa</td></tr>\n",
       "\t<tr><td>4.7   </td><td>3.2   </td><td>1.3   </td><td>0.2   </td><td>setosa</td></tr>\n",
       "</tbody>\n",
       "</table>\n"
      ],
      "text/latex": [
       "\\begin{tabular}{r|lllll}\n",
       " Sepal.Length & Sepal.Width & Petal.Length & Petal.Width & Species\\\\\n",
       "\\hline\n",
       "\t 4.3    & 3.0    & 1.1    & 0.1    & setosa\\\\\n",
       "\t 4.4    & 2.9    & 1.4    & 0.2    & setosa\\\\\n",
       "\t 4.4    & 3.0    & 1.3    & 0.2    & setosa\\\\\n",
       "\t 4.4    & 3.2    & 1.3    & 0.2    & setosa\\\\\n",
       "\t 4.5    & 2.3    & 1.3    & 0.3    & setosa\\\\\n",
       "\t 4.6    & 3.1    & 1.5    & 0.2    & setosa\\\\\n",
       "\t 4.6    & 3.4    & 1.4    & 0.3    & setosa\\\\\n",
       "\t 4.6    & 3.6    & 1.0    & 0.2    & setosa\\\\\n",
       "\t 4.6    & 3.2    & 1.4    & 0.2    & setosa\\\\\n",
       "\t 4.7    & 3.2    & 1.3    & 0.2    & setosa\\\\\n",
       "\\end{tabular}\n"
      ],
      "text/markdown": [
       "\n",
       "Sepal.Length | Sepal.Width | Petal.Length | Petal.Width | Species | \n",
       "|---|---|---|---|---|---|---|---|---|---|\n",
       "| 4.3    | 3.0    | 1.1    | 0.1    | setosa | \n",
       "| 4.4    | 2.9    | 1.4    | 0.2    | setosa | \n",
       "| 4.4    | 3.0    | 1.3    | 0.2    | setosa | \n",
       "| 4.4    | 3.2    | 1.3    | 0.2    | setosa | \n",
       "| 4.5    | 2.3    | 1.3    | 0.3    | setosa | \n",
       "| 4.6    | 3.1    | 1.5    | 0.2    | setosa | \n",
       "| 4.6    | 3.4    | 1.4    | 0.3    | setosa | \n",
       "| 4.6    | 3.6    | 1.0    | 0.2    | setosa | \n",
       "| 4.6    | 3.2    | 1.4    | 0.2    | setosa | \n",
       "| 4.7    | 3.2    | 1.3    | 0.2    | setosa | \n",
       "\n",
       "\n"
      ],
      "text/plain": [
       "   Sepal.Length Sepal.Width Petal.Length Petal.Width Species\n",
       "1  4.3          3.0         1.1          0.1         setosa \n",
       "2  4.4          2.9         1.4          0.2         setosa \n",
       "3  4.4          3.0         1.3          0.2         setosa \n",
       "4  4.4          3.2         1.3          0.2         setosa \n",
       "5  4.5          2.3         1.3          0.3         setosa \n",
       "6  4.6          3.1         1.5          0.2         setosa \n",
       "7  4.6          3.4         1.4          0.3         setosa \n",
       "8  4.6          3.6         1.0          0.2         setosa \n",
       "9  4.6          3.2         1.4          0.2         setosa \n",
       "10 4.7          3.2         1.3          0.2         setosa "
      ]
     },
     "metadata": {},
     "output_type": "display_data"
    }
   ],
   "source": [
    "## Answer Here\n",
    "data(iris)\n",
    "    iris %>%\n",
    "    arrange(Sepal.Length) %>%\n",
    "    head(n=10)\n"
   ]
  },
  {
   "cell_type": "markdown",
   "metadata": {},
   "source": [
    "Answer:\n",
    "\n"
   ]
  },
  {
   "cell_type": "markdown",
   "metadata": {},
   "source": [
    "### Problem 3\n",
    "\n",
    "Interesting, again, with the `iris` data set, `filter` out the species you noticed in the last problem, and then arrange by `Sepal.Length`. Show the first ten entries, what do you notice about the species?"
   ]
  },
  {
   "cell_type": "code",
   "execution_count": 7,
   "metadata": {},
   "outputs": [
    {
     "data": {
      "text/html": [
       "<table>\n",
       "<thead><tr><th scope=col>Sepal.Length</th><th scope=col>Sepal.Width</th><th scope=col>Petal.Length</th><th scope=col>Petal.Width</th><th scope=col>Species</th></tr></thead>\n",
       "<tbody>\n",
       "\t<tr><td>4.9       </td><td>2.4       </td><td>3.3       </td><td>1.0       </td><td>versicolor</td></tr>\n",
       "\t<tr><td>4.9       </td><td>2.5       </td><td>4.5       </td><td>1.7       </td><td>virginica </td></tr>\n",
       "\t<tr><td>5.0       </td><td>2.0       </td><td>3.5       </td><td>1.0       </td><td>versicolor</td></tr>\n",
       "\t<tr><td>5.0       </td><td>2.3       </td><td>3.3       </td><td>1.0       </td><td>versicolor</td></tr>\n",
       "\t<tr><td>5.1       </td><td>2.5       </td><td>3.0       </td><td>1.1       </td><td>versicolor</td></tr>\n",
       "\t<tr><td>5.2       </td><td>2.7       </td><td>3.9       </td><td>1.4       </td><td>versicolor</td></tr>\n",
       "\t<tr><td>5.4       </td><td>3.0       </td><td>4.5       </td><td>1.5       </td><td>versicolor</td></tr>\n",
       "\t<tr><td>5.5       </td><td>2.3       </td><td>4.0       </td><td>1.3       </td><td>versicolor</td></tr>\n",
       "\t<tr><td>5.5       </td><td>2.4       </td><td>3.8       </td><td>1.1       </td><td>versicolor</td></tr>\n",
       "\t<tr><td>5.5       </td><td>2.4       </td><td>3.7       </td><td>1.0       </td><td>versicolor</td></tr>\n",
       "</tbody>\n",
       "</table>\n"
      ],
      "text/latex": [
       "\\begin{tabular}{r|lllll}\n",
       " Sepal.Length & Sepal.Width & Petal.Length & Petal.Width & Species\\\\\n",
       "\\hline\n",
       "\t 4.9        & 2.4        & 3.3        & 1.0        & versicolor\\\\\n",
       "\t 4.9        & 2.5        & 4.5        & 1.7        & virginica \\\\\n",
       "\t 5.0        & 2.0        & 3.5        & 1.0        & versicolor\\\\\n",
       "\t 5.0        & 2.3        & 3.3        & 1.0        & versicolor\\\\\n",
       "\t 5.1        & 2.5        & 3.0        & 1.1        & versicolor\\\\\n",
       "\t 5.2        & 2.7        & 3.9        & 1.4        & versicolor\\\\\n",
       "\t 5.4        & 3.0        & 4.5        & 1.5        & versicolor\\\\\n",
       "\t 5.5        & 2.3        & 4.0        & 1.3        & versicolor\\\\\n",
       "\t 5.5        & 2.4        & 3.8        & 1.1        & versicolor\\\\\n",
       "\t 5.5        & 2.4        & 3.7        & 1.0        & versicolor\\\\\n",
       "\\end{tabular}\n"
      ],
      "text/markdown": [
       "\n",
       "Sepal.Length | Sepal.Width | Petal.Length | Petal.Width | Species | \n",
       "|---|---|---|---|---|---|---|---|---|---|\n",
       "| 4.9        | 2.4        | 3.3        | 1.0        | versicolor | \n",
       "| 4.9        | 2.5        | 4.5        | 1.7        | virginica  | \n",
       "| 5.0        | 2.0        | 3.5        | 1.0        | versicolor | \n",
       "| 5.0        | 2.3        | 3.3        | 1.0        | versicolor | \n",
       "| 5.1        | 2.5        | 3.0        | 1.1        | versicolor | \n",
       "| 5.2        | 2.7        | 3.9        | 1.4        | versicolor | \n",
       "| 5.4        | 3.0        | 4.5        | 1.5        | versicolor | \n",
       "| 5.5        | 2.3        | 4.0        | 1.3        | versicolor | \n",
       "| 5.5        | 2.4        | 3.8        | 1.1        | versicolor | \n",
       "| 5.5        | 2.4        | 3.7        | 1.0        | versicolor | \n",
       "\n",
       "\n"
      ],
      "text/plain": [
       "   Sepal.Length Sepal.Width Petal.Length Petal.Width Species   \n",
       "1  4.9          2.4         3.3          1.0         versicolor\n",
       "2  4.9          2.5         4.5          1.7         virginica \n",
       "3  5.0          2.0         3.5          1.0         versicolor\n",
       "4  5.0          2.3         3.3          1.0         versicolor\n",
       "5  5.1          2.5         3.0          1.1         versicolor\n",
       "6  5.2          2.7         3.9          1.4         versicolor\n",
       "7  5.4          3.0         4.5          1.5         versicolor\n",
       "8  5.5          2.3         4.0          1.3         versicolor\n",
       "9  5.5          2.4         3.8          1.1         versicolor\n",
       "10 5.5          2.4         3.7          1.0         versicolor"
      ]
     },
     "metadata": {},
     "output_type": "display_data"
    }
   ],
   "source": [
    "#### Answer Here\n",
    "\n",
    "iris %>% \n",
    "    filter(Species != 'setosa') %>%\n",
    "    arrange(Sepal.Length) %>%\n",
    "    head(n=10)"
   ]
  },
  {
   "cell_type": "markdown",
   "metadata": {},
   "source": [
    "Answer: \n",
    "\n"
   ]
  },
  {
   "cell_type": "markdown",
   "metadata": {},
   "source": [
    "### Problem 4\n",
    "Cool! Let's explore this visually. use `ggplot` to create a scatter plot (`geom_point`) of `iris` where the x-axis is `Petal.Length`, the y-axis is `Petal.Width` and the dots are colored by `Species`."
   ]
  },
  {
   "cell_type": "code",
   "execution_count": 13,
   "metadata": {},
   "outputs": [
    {
     "data": {},
     "metadata": {},
     "output_type": "display_data"
    },
    {
     "data": {
      "image/png": "[encoded data removed]",
      "text/plain": [
       "plot without title"
      ]
     },
     "metadata": {},
     "output_type": "display_data"
    }
   ],
   "source": [
    "### Run but DO NOT CHANGE\n",
    "ggplot(iris, aes(x=Petal.Length,y=Petal.Width,col=Species)) + geom_point()"
   ]
  }
 ],
 "metadata": {
  "kernelspec": {
   "display_name": "R",
   "language": "R",
   "name": "ir"
  },
  "language_info": {
   "codemirror_mode": "r",
   "file_extension": ".r",
   "mimetype": "text/x-r-source",
   "name": "R",
   "pygments_lexer": "r",
   "version": "3.4.4"
  }
 },
 "nbformat": 4,
 "nbformat_minor": 2
}
