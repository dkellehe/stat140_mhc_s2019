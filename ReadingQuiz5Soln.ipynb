{
 "cells": [
  {
   "cell_type": "markdown",
   "metadata": {},
   "source": [
    "## Reading Quiz 5\n",
    "\n",
    "Watch the Video https://www.youtube.com/watch?list=PLkIselvEzpM7Pjo94m1e7J5jkIZkbQAl4&time_continue=451&v=NVbPE1_Cbx8\n",
    "Then complete the following exercises\n"
   ]
  },
  {
   "cell_type": "markdown",
   "metadata": {},
   "source": [
    "#### NAME:  "
   ]
  },
  {
   "cell_type": "code",
   "execution_count": 1,
   "metadata": {},
   "outputs": [
    {
     "name": "stderr",
     "output_type": "stream",
     "text": [
      "Loading required package: tidyverse\n",
      "── Attaching packages ─────────────────────────────────────── tidyverse 1.2.1 ──\n",
      "✔ ggplot2 3.1.0     ✔ purrr   0.2.5\n",
      "✔ tibble  1.4.2     ✔ dplyr   0.7.8\n",
      "✔ tidyr   0.8.2     ✔ stringr 1.3.1\n",
      "✔ readr   1.3.0     ✔ forcats 0.3.0\n",
      "── Conflicts ────────────────────────────────────────── tidyverse_conflicts() ──\n",
      "✖ dplyr::filter() masks stats::filter()\n",
      "✖ dplyr::lag()    masks stats::lag()\n"
     ]
    }
   ],
   "source": [
    "## Run, But Do Not Change\n",
    "# tidyverse\n",
    "require(tidyverse)\n",
    "# dplyr\n",
    "library(dplyr)\n",
    "# ggplot2\n",
    "library(ggplot2)\n",
    "# OI Biostats\n",
    "library(oibiostat)"
   ]
  },
  {
   "cell_type": "markdown",
   "metadata": {},
   "source": [
    "### Problem 1\n",
    "\n",
    "We shall use the `nhanes` data as a total population, and we shall illustrate the relationship between the normal distribution and sampling.\n",
    "\n",
    "We shall sample the heights of individuals.\n",
    "\n",
    "a) First, try to take the `mean` of the `Height` variable of `nhanes.samp.adult.500` and see what happens. "
   ]
  },
  {
   "cell_type": "code",
   "execution_count": 3,
   "metadata": {},
   "outputs": [
    {
     "name": "stderr",
     "output_type": "stream",
     "text": [
      "Warning message in mean.default(nhanes.samp.adult.500):\n",
      "“argument is not numeric or logical: returning NA”"
     ]
    },
    {
     "data": {
      "text/html": [
       "&lt;NA&gt;"
      ],
      "text/latex": [
       "<NA>"
      ],
      "text/markdown": [
       "&lt;NA&gt;"
      ],
      "text/plain": [
       "[1] NA"
      ]
     },
     "metadata": {},
     "output_type": "display_data"
    }
   ],
   "source": [
    "#Answer (sort of)\n",
    "data(nhanes.samp.adult.500)\n",
    "mean(nhanes.samp.adult.500)"
   ]
  },
  {
   "cell_type": "markdown",
   "metadata": {},
   "source": [
    "Well, that isn't good. Getting an error of this type means that there are NAs in the vector, to deal wit this, use the additional keyword argument `na.rm=TRUE`. (this tells R to remove NAs before taking the mean)\n",
    "\n",
    "b) First get the mean and standard deviation of the `Height` variable in `nhanes.samp.adult.500`, but this time include the key-word argument, `na.rm=TRUE`."
   ]
  },
  {
   "cell_type": "code",
   "execution_count": 2,
   "metadata": {},
   "outputs": [
    {
     "data": {
      "text/html": [
       "168.783734939759"
      ],
      "text/latex": [
       "168.783734939759"
      ],
      "text/markdown": [
       "168.783734939759"
      ],
      "text/plain": [
       "[1] 168.7837"
      ]
     },
     "metadata": {},
     "output_type": "display_data"
    },
    {
     "data": {
      "text/html": [
       "10.2932141750937"
      ],
      "text/latex": [
       "10.2932141750937"
      ],
      "text/markdown": [
       "10.2932141750937"
      ],
      "text/plain": [
       "[1] 10.29321"
      ]
     },
     "metadata": {},
     "output_type": "display_data"
    }
   ],
   "source": [
    "#Answer\n",
    "data(nhanes.samp.adult.500)\n",
    "x<-nhanes.samp.adult.500$Height\n",
    "mean(x,na.rm=TRUE)\n",
    "sd(x,na.rm=TRUE)"
   ]
  },
  {
   "cell_type": "markdown",
   "metadata": {},
   "source": [
    "b) Use the normal distribution to approximate the percent of of samples of size $n=50$ would have a mean $\\bar x$ of less than than 166lbs.  Put the answer in the context of the question."
   ]
  },
  {
   "cell_type": "code",
   "execution_count": 22,
   "metadata": {},
   "outputs": [
    {
     "data": {
      "text/html": [
       "0.0279172124307919"
      ],
      "text/latex": [
       "0.0279172124307919"
      ],
      "text/markdown": [
       "0.0279172124307919"
      ],
      "text/plain": [
       "[1] 0.02791721"
      ]
     },
     "metadata": {},
     "output_type": "display_data"
    }
   ],
   "source": [
    "## Use the following for calculation\n",
    "mu<-mean(x,na.rm=TRUE)\n",
    "s<-sd(x,na.rm=TRUE)/sqrt(50)\n",
    "pnorm(166,mu,s)"
   ]
  },
  {
   "cell_type": "markdown",
   "metadata": {},
   "source": [
    "Answer:\n"
   ]
  },
  {
   "cell_type": "markdown",
   "metadata": {},
   "source": [
    "### Problem 2\n",
    "\n",
    "Now we are going to simulating taking 1000 samples of size 50 from `nhanes.samp.adult.500` and seeing how many are less than a given number.\n",
    "\n",
    "(a) Complete the following for loop to make take 1000 samples of size 50 and store their means in `Samples`."
   ]
  },
  {
   "cell_type": "code",
   "execution_count": 37,
   "metadata": {},
   "outputs": [],
   "source": [
    "####\n",
    "set.seed(321)\n",
    "#### Answer Here\n",
    "Samples<-c()\n",
    "\n",
    "for(i in 1:1000){\n",
    "    sample_vector<-sample(x,50,replace=FALSE)\n",
    "    Samples[i]<-mean(sample_vector,na.rm=TRUE)\n",
    "}\n",
    "\n"
   ]
  },
  {
   "cell_type": "markdown",
   "metadata": {},
   "source": [
    "(b) Now compute the proportion of samples which are less than 166. Hint: you can count a proportion of a list that satisfy a certain thing by using `mean` on the boolean statement for that thing."
   ]
  },
  {
   "cell_type": "code",
   "execution_count": 43,
   "metadata": {},
   "outputs": [
    {
     "data": {
      "text/html": [
       "0.029"
      ],
      "text/latex": [
       "0.029"
      ],
      "text/markdown": [
       "0.029"
      ],
      "text/plain": [
       "[1] 0.029"
      ]
     },
     "metadata": {},
     "output_type": "display_data"
    }
   ],
   "source": [
    "#answer\n",
    "mean(Samples<166)"
   ]
  },
  {
   "cell_type": "markdown",
   "metadata": {},
   "source": [
    "### Problem 3\n",
    "\n",
    "Now, we want to visualise this. Using `ggplot` make a histogram which has extreme points (those < 166) colored a different way that the non-extreme points. This will take two steps....\n",
    "\n",
    "a) Make a `data.frame` which has two variables: one called `samples` which has the `Samples` vector from the previous problem, and an `extreme` variable which is `TRUE` if the value is extreme and `FALSE` if it is not. (Hint: use Boolean operators of `Sample` to get the second random variable."
   ]
  },
  {
   "cell_type": "code",
   "execution_count": 39,
   "metadata": {},
   "outputs": [],
   "source": [
    "### Answer\n",
    "df<- data.frame(\n",
    "        samples=Samples,\n",
    "        extreme=(Samples<166)\n",
    ")"
   ]
  },
  {
   "cell_type": "markdown",
   "metadata": {},
   "source": [
    "b) Now use `ggplot` to make a `geom_histogram` of this with `extreme` as thre coloring."
   ]
  },
  {
   "cell_type": "code",
   "execution_count": 42,
   "metadata": {},
   "outputs": [
    {
     "data": {},
     "metadata": {},
     "output_type": "display_data"
    },
    {
     "data": {
      "image/png": "[encoded data removed]",
      "text/plain": [
       "plot without title"
      ]
     },
     "metadata": {},
     "output_type": "display_data"
    }
   ],
   "source": [
    "#Answer \n",
    "ggplot(df,aes(x=samples,fill=extreme))+geom_histogram(binwidth=.5)"
   ]
  },
  {
   "cell_type": "code",
   "execution_count": null,
   "metadata": {},
   "outputs": [],
   "source": []
  }
 ],
 "metadata": {
  "kernelspec": {
   "display_name": "R",
   "language": "R",
   "name": "ir"
  },
  "language_info": {
   "codemirror_mode": "r",
   "file_extension": ".r",
   "mimetype": "text/x-r-source",
   "name": "R",
   "pygments_lexer": "r",
   "version": "3.4.4"
  }
 },
 "nbformat": 4,
 "nbformat_minor": 2
}
