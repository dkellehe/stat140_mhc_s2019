{
 "cells": [
  {
   "cell_type": "markdown",
   "metadata": {},
   "source": [
    "# Data book report:\n",
    "\n",
    "With data journalism on the rise, there is a new dimension to quantitative literacy which is increasingly more important... being able to evaluate how an article is constructed on a statistical level in addition to the normal journalistic standards.\n",
    "\n",
    "The classic strategies for evaluating an articles trustworthy-ness are still important for a data-driven story: is it from a unbiased organization? Is it clear an transparent about it's sources? etc. \n",
    "\n",
    "But there are a few more dimensions that we need to evaluate it on. Your task is  to pick one of the articles listed below and perform a review of the article, which should include the answers to the following:\n",
    "\n",
    "### 1. A summary \n",
    "What is the content and hypotheses of the article?\n",
    "### 2. The data \n",
    "- Is the data explained in the article?\n",
    "- Is the source of the data clear?\n",
    "- Are visualisations readable?\n",
    "- Is the data easy to find and well organized/clean?\n",
    "\n",
    "### 3. Reproducible?\n",
    "To test this last point, you shall reproduce one of the visualisations using `ggplot`. The visualisation SHOULD NOT be exactly the same, the goal is to verify that the visualisations in the article are what they claim to be. In addition, record your experience in reproducing the graph... in particular answer the questions: \n",
    "- Was reproducing the graph straightforward? \n",
    "- Were there any difficulties?\n",
    "- Do the results match the visualisation in the article?\n",
    "\n",
    "To do all of this, you shall have to use the full power of Jupyter. (sorry, I just wanted to say \"the full power of jupyter,\" doesn't that sound cool?) \n",
    "\n",
    "A blank notebook is provided for you in this directory, write your report in it, make sure that your review is itself readible. Divide it into three section as above."
   ]
  },
  {
   "cell_type": "markdown",
   "metadata": {},
   "source": [
    "# Articles\n",
    "####  Caveat: I have read each of these articles and taken a brief look at their github page, but that doesn't mean that they are perfect (hence why this is a review).\n",
    "\n",
    "\n",
    "### FiveThirtyEight: 'Straight Outta Compton' Is The Rare Biopic Not About White Dudes.\n",
    "https://github.com/fivethirtyeight/data/tree/master/biopics\n",
    "\n",
    "### FiveThirtyEight: Do Pulitzers Help Newspapers Keep Readers?\n",
    "https://github.com/fivethirtyeight/data/tree/master/pulitzer\n",
    "\n",
    "### FiveThirtyEight: How Baby Boomers Get High\n",
    "https://github.com/fivethirtyeight/data/tree/master/drug-use-by-age\n",
    "\n",
    "### FiveThirtyEight: The Most Common Unisex Names In America: Is Yours One Of Them?\n",
    "https://github.com/fivethirtyeight/data/tree/master/unisex-names\n",
    "\n",
    "### BuzzFeed: These Are 50 Of The Biggest Fake News Hits On Facebook In 2018\n",
    "https://github.com/BuzzFeedNews/2018-12-fake-news-top-50\n",
    "\n",
    "### FiveThirtyEight: The Dollar-And-Cents Case Against Hollywood’s Exclusion of Women. (Long)\n",
    "https://github.com/fivethirtyeight/data/tree/master/bechdel\n",
    "\n",
    "\n",
    "## You may choose any of these articles, if you want to use another article, then feel free to ask me about it. \n",
    "If you want to look for some of your own, here are the github repositories for \n",
    "#### BuzzFeedNews\n",
    "https://github.com/BuzzFeedNews\n",
    "#### FiveThirtyEight\n",
    "https://github.com/fivethirtyeight\n",
    "\n"
   ]
  },
  {
   "cell_type": "markdown",
   "metadata": {},
   "source": [
    "# Resources\n",
    "\n",
    "### Importing data in R\n",
    "As part of nearly all of these you will need to import data into R. Most of you will just be able to use the `read.csv` function:"
   ]
  },
  {
   "cell_type": "code",
   "execution_count": 2,
   "metadata": {},
   "outputs": [],
   "source": [
    "#run me\n",
    "?read.csv"
   ]
  },
  {
   "cell_type": "markdown",
   "metadata": {},
   "source": [
    "To help you learn more about this, I have asigned the *Importing Data in R (part 1)* course on datacamp, this is a very useful topic, but you do not have to complete this whole course.\n",
    "\n",
    "### A Beginner’s Guide to Data Journalism: Let’s Build a Story From Scratch\n",
    "If you are interested in data journalism, you can see a tutorial about how to do it here\n",
    "https://medium.freecodecamp.org/data-journalism-isnt-for-the-select-let-s-work-out-a-story-together-from-scratch-dd85b3017f4a"
   ]
  },
  {
   "cell_type": "code",
   "execution_count": null,
   "metadata": {},
   "outputs": [],
   "source": []
  }
 ],
 "metadata": {
  "kernelspec": {
   "display_name": "R",
   "language": "R",
   "name": "ir"
  },
  "language_info": {
   "codemirror_mode": "r",
   "file_extension": ".r",
   "mimetype": "text/x-r-source",
   "name": "R",
   "pygments_lexer": "r",
   "version": "3.4.4"
  }
 },
 "nbformat": 4,
 "nbformat_minor": 2
}
